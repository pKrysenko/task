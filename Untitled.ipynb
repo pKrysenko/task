{
 "cells": [
  {
   "cell_type": "code",
   "execution_count": 1,
   "metadata": {},
   "outputs": [
    {
     "name": "stderr",
     "output_type": "stream",
     "text": [
      "C:\\Program Files11\\Anaconda\\lib\\site-packages\\h5py\\__init__.py:36: FutureWarning: Conversion of the second argument of issubdtype from `float` to `np.floating` is deprecated. In future, it will be treated as `np.float64 == np.dtype(float).type`.\n",
      "  from ._conv import register_converters as _register_converters\n"
     ]
    }
   ],
   "source": [
    "import tensorflow as tf\n",
    "import matplotlib.image as mpimg\n",
    "import numpy as np\n",
    "import os\n",
    "import matplotlib.pyplot as plt\n",
    "from math import pi\n",
    "\n",
    "data_path = \"C:/Users/pyroman/dataset/\"\n",
    "\n",
    "IMAGE_SIZE = 100"
   ]
  },
  {
   "cell_type": "code",
   "execution_count": 2,
   "metadata": {},
   "outputs": [],
   "source": [
    "def get_imgs_tf(imgs) :\n",
    "    X_tf = []\n",
    "    for img in imgs :\n",
    "        tf_img = tf.convert_to_tensor(img)\n",
    "        X_tf.append(tf_img)\n",
    "    return X_tf"
   ]
  },
  {
   "cell_type": "code",
   "execution_count": 3,
   "metadata": {},
   "outputs": [],
   "source": [
    "def saving_data(data, label, data_path=data_path) :\n",
    "    aug_path = os.path.join(data_path, \"aug_data\", label)\n",
    "    os.makedirs(aug_path)\n",
    "    i = 0\n",
    "    for img in data :\n",
    "        i+=1\n",
    "        plt.imsave(aug_path + \"/\" + str(i)+ \".png\", img, format=\"png\")"
   ]
  },
  {
   "cell_type": "code",
   "execution_count": 4,
   "metadata": {},
   "outputs": [],
   "source": [
    "def rotate_images(X_imgs, angle, number_of_rot):\n",
    "    X_rotate = []\n",
    "    batch_size = 20\n",
    "    angle_of_rot = angle / (number_of_rot - 1)\n",
    "    \n",
    "    tf.reset_default_graph()\n",
    "    X = tf.placeholder(tf.float32, shape = (None, IMAGE_SIZE, IMAGE_SIZE, 4))\n",
    "    radian = tf.placeholder(tf.float32, shape = (len(X_imgs)))\n",
    "    tf_img = tf.contrib.image.rotate(X, radian)\n",
    "    with tf.Session() as sess:\n",
    "        sess.run(tf.global_variables_initializer())\n",
    "    \n",
    "        for index in range(number_of_rot):\n",
    "            for l in range(0, len(X_imgs), batch_size) :\n",
    "                end = l + batch_size \n",
    "                X_imgs_batch = X_imgs[l:end]\n",
    "                degrees_angle = 180 + index * angle_of_rot\n",
    "                radian_value = degrees_angle * pi / 180  # Convert to radian\n",
    "                radian_arr = [radian_value] * len(X_imgs)\n",
    "                rotated_imgs = sess.run(tf_img, feed_dict = {X: X_imgs_batch, radian: radian_arr})\n",
    "                X_rotate.extend(rotated_imgs)\n",
    "\n",
    "    X_rotate = np.array(X_rotate, dtype = np.float32)\n",
    "    return X_rotate"
   ]
  },
  {
   "cell_type": "code",
   "execution_count": 11,
   "metadata": {},
   "outputs": [],
   "source": [
    "def get_aug_imgs(imgs) :\n",
    "    i = 0\n",
    "           \n",
    "    tf_imgs = get_imgs_tf(imgs)\n",
    "    with tf.Session() as sess :\n",
    "        for img in tf_imgs :\n",
    "            aug3rd = tf.contrib.image.rotate(img, 15 * pi / 180)\n",
    "            third_stage_aug = sess.run(aug3rd)\n",
    "            imgs.append(third_stage_aug)\n",
    "            \n",
    "    tf.reset_default_graph()         \n",
    "    tf_imgs = get_imgs_tf(imgs)\n",
    "    with tf.Session() as sess :\n",
    "        for img in tf_imgs :\n",
    "            aug4th = tf.contrib.image.rotate(img, 335 * pi / 180)\n",
    "            fourth_stage_aug = sess.run(aug4th)\n",
    "            imgs.append(fourth_stage_aug)\n",
    "            \n",
    "    tf.reset_default_graph()\n",
    "    tf_imgs = get_imgs_tf(imgs)\n",
    "    with tf.Session() as sess :\n",
    "        for img in tf_imgs :\n",
    "            aug1st = tf.image.flip_left_right(img)\n",
    "            first_stage_aug = sess.run(aug1st)\n",
    "            imgs.append(first_stage_aug)\n",
    "            \n",
    "    tf.reset_default_graph()         \n",
    "    tf_imgs = get_imgs_tf(imgs)\n",
    "    with tf.Session() as sess :\n",
    "        for img in tf_imgs :\n",
    "            aug2nd = tf.image.flip_up_down(img)\n",
    "            second_stage_aug = sess.run(aug2nd)\n",
    "            imgs.append(second_stage_aug)\n",
    "\n",
    "   \n",
    "    \n",
    "    return imgs"
   ]
  },
  {
   "cell_type": "code",
   "execution_count": 12,
   "metadata": {},
   "outputs": [],
   "source": [
    "def get_aug_data(path) :\n",
    "    labels = os.listdir(path)\n",
    "    \n",
    "    for label in labels :\n",
    "        X= []\n",
    "        path_folder = os.path.join(path, label)\n",
    "        names_img = os.listdir(path_folder)\n",
    "        for img in names_img :\n",
    "            X_img = os.path.join(path_folder, img)\n",
    "            image = mpimg.imread(X_img)\n",
    "            X.append(image)\n",
    "            \n",
    "        aug_imgs = get_aug_imgs(X)\n",
    "        saving_data(aug_imgs, label)\n",
    "        "
   ]
  },
  {
   "cell_type": "code",
   "execution_count": 13,
   "metadata": {},
   "outputs": [
    {
     "name": "stdout",
     "output_type": "stream",
     "text": [
      "Wall time: 1min 31s\n"
     ]
    }
   ],
   "source": [
    "%%time\n",
    "get_aug_data(data_path)"
   ]
  },
  {
   "cell_type": "code",
   "execution_count": 41,
   "metadata": {},
   "outputs": [],
   "source": [
    "saving_data(data)"
   ]
  },
  {
   "cell_type": "code",
   "execution_count": 34,
   "metadata": {},
   "outputs": [],
   "source": [
    "plt.imsave(\"C:/Users/pyroman/22.png\", data[1], format=\"png\")"
   ]
  },
  {
   "cell_type": "code",
   "execution_count": 106,
   "metadata": {},
   "outputs": [],
   "source": [
    "scaled_img = central_scale_images(imgs, [1,0.7,0.6])"
   ]
  },
  {
   "cell_type": "code",
   "execution_count": 60,
   "metadata": {},
   "outputs": [],
   "source": [
    "os.makedirs(os.path.join(data_path, \"gt\", \"rnd\"))"
   ]
  },
  {
   "cell_type": "code",
   "execution_count": 2,
   "metadata": {},
   "outputs": [],
   "source": [
    "l = range(0, 10, 5)"
   ]
  },
  {
   "cell_type": "code",
   "execution_count": 4,
   "metadata": {},
   "outputs": [
    {
     "name": "stdout",
     "output_type": "stream",
     "text": [
      "range(0, 10, 5)\n"
     ]
    }
   ],
   "source": [
    "print(l)"
   ]
  },
  {
   "cell_type": "code",
   "execution_count": 7,
   "metadata": {},
   "outputs": [
    {
     "ename": "IndexError",
     "evalue": "range object index out of range",
     "output_type": "error",
     "traceback": [
      "\u001b[1;31m---------------------------------------------------------------------------\u001b[0m",
      "\u001b[1;31mIndexError\u001b[0m                                Traceback (most recent call last)",
      "\u001b[1;32m<ipython-input-7-78764dab44db>\u001b[0m in \u001b[0;36m<module>\u001b[1;34m()\u001b[0m\n\u001b[1;32m----> 1\u001b[1;33m \u001b[0ml\u001b[0m\u001b[1;33m[\u001b[0m\u001b[1;36m2\u001b[0m\u001b[1;33m]\u001b[0m\u001b[1;33m\u001b[0m\u001b[0m\n\u001b[0m",
      "\u001b[1;31mIndexError\u001b[0m: range object index out of range"
     ]
    }
   ],
   "source": [
    "l[2]"
   ]
  },
  {
   "cell_type": "code",
   "execution_count": null,
   "metadata": {},
   "outputs": [],
   "source": []
  }
 ],
 "metadata": {
  "kernelspec": {
   "display_name": "Python 3",
   "language": "python",
   "name": "python3"
  },
  "language_info": {
   "codemirror_mode": {
    "name": "ipython",
    "version": 3
   },
   "file_extension": ".py",
   "mimetype": "text/x-python",
   "name": "python",
   "nbconvert_exporter": "python",
   "pygments_lexer": "ipython3",
   "version": "3.6.5"
  }
 },
 "nbformat": 4,
 "nbformat_minor": 2
}
